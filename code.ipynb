{
 "cells": [
  {
   "cell_type": "code",
   "execution_count": 3,
   "metadata": {},
   "outputs": [
    {
     "name": "stderr",
     "output_type": "stream",
     "text": [
      "C:\\ProgramData\\Anaconda3\\lib\\site-packages\\sklearn\\utils\\validation.py:68: FutureWarning: Pass input=['Sometimes life changes in ways you did not see coming. You had an accident and lost a limb or woke up with Parkinsonâ€™s disease or Diabetes. Or maybe you were born deaf and could not hear a sound. We want to empower people to lead their everyday lives with quality. Our medical solutions make it possible.', 'Read the latest technology news and interesting research breakthroughs on SciTechDaily. Discover recent technology news articles on topics such as Nanotechnology, Artificial Intelligence, Biotechnology, Graphene, Green Tech, Battery Tech, Computer Tech, Engineering, and Fuel-cell Tech featuring research out of MIT, Cal Tech, Yale, Georgia Tech, Karlsruhe Tech, Vienna Tech, and Michigan Technological University.', 'New technology has been developed by international conservation charity the Zoological Society of London (ZSL) and Google Cloud. Acoustic sensors placed in nature reserves or safaris can record events up to 1km (0.6 miles) away.', 'Healthcare consumerism will continue to increase in 2020 as technology improves and drives new, faster and more robust wearables and home-based IoT devices are integrated with wearables, healthcare apps, and healthcare providers', \"Advanced AI is moving away from opensource to commercial models for good reason. Open-source AI is generally opaque, however commercial models are frequently transparent and show the model used to arrive at an answer. If youâ€™re using AI to question the validity of the physician's decision, for example, you need to know how the AI came to its conclusion. Data transparency must be very clear to ensure understanding.\", \"Blockchain solves the problem of accessibility, portability, and integrity of information in a complex environment. Thereâ€™s always a risk to lose or compromise medical records stored in clinics' databases. Blockchain has the potential to challenge the status quo. Using a public-private key, a patient can decide who is going to have access to their record. If a specialist is needed for a consultation, a patient can grant access via a system that all parties are using.\", 'When it comes to communication, there has been a huge role played by technology to make it what it has become today. Today, it is very easy to communicate with people from any corner of the world. Before, people used messengers for handing a letter from a country to another, which was an extremely long process. Whereas nowadays just a few clicks or dials are enough to send you message to anyone from anywhere within few moments. It is because of satellite that all of this is possible.', 'We have the technology available to us to enable the management of our daily lives and the sharing of valuable information with our friends, families and others. Why technology is important in our daily life. It is an essential tool that we cannot avoid, it plays an important part in the majority of our lives Technology essentially harnesses the tools, technologies and strategies used to help us solve problems and simply make our lives better and easier to live in some way.', 'Technology is inevitable in our everyday lives. This is because life without technology is pointless in todayâ€™s dynamic world. Technology, which brings together tools to promote development, use and information exchange, has as its main objective of making tasks easier and the solving of many problems of mankind. When technology progresses and makes our lives even more convenient, we must stress how beneficial it is to our lives.', 'As a result of technological advances, they are increasing and spreading across countries. It is innovation that gives the power to spread their wings to organizations. The positive impact of technology on society has brought change and helped us to reach new heights that have never before been conceived of.'] as keyword args. From version 0.25 passing these as positional arguments will result in an error\n",
      "  warnings.warn(\"Pass {} as keyword args. From version 0.25 \"\n"
     ]
    }
   ],
   "source": [
    "from sklearn.feature_extraction.text import CountVectorizer\n",
    "file1=open(\"text1.txt\")\n",
    "read1=file1.read();\n",
    "file2=open(\"text2.txt\")\n",
    "read2=file2.read();\n",
    "file3=open(\"text3.txt\")\n",
    "read3=file3.read();\n",
    "file4=open(\"text4.txt\")\n",
    "read4=file4.read();\n",
    "file5=open(\"text5.txt\")\n",
    "read5=file5.read();\n",
    "file6=open(\"text6.txt\")\n",
    "read6=file6.read();\n",
    "file7=open(\"text7.txt\")\n",
    "read7=file7.read();\n",
    "file8=open(\"text8.txt\")\n",
    "read8=file8.read();\n",
    "file9=open(\"text9.txt\")\n",
    "read9=file9.read();\n",
    "file10=open(\"text10.txt\")\n",
    "read10=file10.read();\n",
    "list1=[read1,read2,read3,read4,read5,read6,read7,read8,read9,read10]\n",
    "cv=CountVectorizer(list1)\n",
    "countvector=cv.fit_transform(list1)\n",
    "#cv.vocabulary_\n",
    "#countvector.shape"
   ]
  },
  {
   "cell_type": "code",
   "execution_count": 4,
   "metadata": {},
   "outputs": [],
   "source": [
    "#for removing stop words\n",
    "cv=CountVectorizer(list1,stop_words=[\"this\",\"may\",\"all\",\"in\",\"and\"])\n",
    "countvector=cv.fit_transform(list1)\n",
    "#countvector.shape"
   ]
  },
  {
   "cell_type": "code",
   "execution_count": 7,
   "metadata": {},
   "outputs": [],
   "source": [
    "import numpy as np\n",
    "uniquewords=cv.get_feature_names()\n",
    "count=len(cv.get_feature_names())\n",
    "#print(uniquewords)\n",
    "array=countvector.toarray()\n",
    "num=np.zeros(count)\n",
    "#print(array)\n",
    "#print(num)"
   ]
  },
  {
   "cell_type": "code",
   "execution_count": 15,
   "metadata": {},
   "outputs": [
    {
     "name": "stdout",
     "output_type": "stream",
     "text": [
      "Enter your query : technology innovation\n"
     ]
    }
   ],
   "source": [
    "#Taking query from user\n",
    "query=input(\"Enter your query : \")\n",
    "querywords=query.split()\n",
    "for qword in querywords:\n",
    "    i=0\n",
    "    for fword in uniquewords:\n",
    "        if qword==fword:\n",
    "            num[i]=num[i]+1\n",
    "        i=i+1\n",
    "#print(num)"
   ]
  },
  {
   "cell_type": "code",
   "execution_count": 16,
   "metadata": {},
   "outputs": [
    {
     "name": "stdout",
     "output_type": "stream",
     "text": [
      "[0. 2. 1. 1. 0. 0. 1. 3. 4. 2.]\n"
     ]
    }
   ],
   "source": [
    "#print(num)\n",
    "num=num.transpose()\n",
    "#print(num)\n",
    "result=np.dot(array,num)\n",
    "print(result)"
   ]
  },
  {
   "cell_type": "code",
   "execution_count": 23,
   "metadata": {},
   "outputs": [
    {
     "name": "stdout",
     "output_type": "stream",
     "text": [
      "Technology is inevitable in our everyday lives. This is because life without technology is pointless in todayâ€™s dynamic world. Technology, which brings together tools to promote development, use and information exchange, has as its main objective of making tasks easier and the solving of many problems of mankind. When technology progresses and makes our lives even more convenient, we must stress how beneficial it is to our lives.\n"
     ]
    }
   ],
   "source": [
    "max1=np.argmax(result)\n",
    "print(list1[max1])"
   ]
  },
  {
   "cell_type": "code",
   "execution_count": null,
   "metadata": {},
   "outputs": [],
   "source": []
  },
  {
   "cell_type": "code",
   "execution_count": null,
   "metadata": {},
   "outputs": [],
   "source": []
  }
 ],
 "metadata": {
  "kernelspec": {
   "display_name": "Python 3",
   "language": "python",
   "name": "python3"
  },
  "language_info": {
   "codemirror_mode": {
    "name": "ipython",
    "version": 3
   },
   "file_extension": ".py",
   "mimetype": "text/x-python",
   "name": "python",
   "nbconvert_exporter": "python",
   "pygments_lexer": "ipython3",
   "version": "3.8.3"
  }
 },
 "nbformat": 4,
 "nbformat_minor": 4
}
